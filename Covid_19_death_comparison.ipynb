{
 "cells": [
  {
   "cell_type": "code",
   "execution_count": 1,
   "metadata": {
    "colab": {},
    "colab_type": "code",
    "id": "IQIbMTWH_fS_"
   },
   "outputs": [],
   "source": [
    "import pandas as pd\n",
    "import numpy as np\n",
    "import matplotlib.pyplot as plt\n",
    "import seaborn as sns"
   ]
  },
  {
   "cell_type": "code",
   "execution_count": 2,
   "metadata": {
    "colab": {},
    "colab_type": "code",
    "id": "vHhaI2lpDfhT"
   },
   "outputs": [],
   "source": [
    "df1 = pd.read_csv('200521COVID19MEXICO.csv',encoding= 'unicode_escape',parse_dates=[0,10,11,12])\n",
    "df2 = pd.read_excel('actas-defuncion-covid-19-cdmx.xlsx',parse_dates=[1])"
   ]
  },
  {
   "cell_type": "code",
   "execution_count": 3,
   "metadata": {
    "colab": {
     "base_uri": "https://localhost:8080/",
     "height": 226
    },
    "colab_type": "code",
    "id": "-SYi8gHfDsL0",
    "outputId": "c81acee3-8330-4cbe-e607-1e776b58008b"
   },
   "outputs": [
    {
     "data": {
      "text/html": [
       "<div>\n",
       "<style scoped>\n",
       "    .dataframe tbody tr th:only-of-type {\n",
       "        vertical-align: middle;\n",
       "    }\n",
       "\n",
       "    .dataframe tbody tr th {\n",
       "        vertical-align: top;\n",
       "    }\n",
       "\n",
       "    .dataframe thead th {\n",
       "        text-align: right;\n",
       "    }\n",
       "</style>\n",
       "<table border=\"1\" class=\"dataframe\">\n",
       "  <thead>\n",
       "    <tr style=\"text-align: right;\">\n",
       "      <th></th>\n",
       "      <th>FECHA_ACTUALIZACION</th>\n",
       "      <th>ID_REGISTRO</th>\n",
       "      <th>ORIGEN</th>\n",
       "      <th>SECTOR</th>\n",
       "      <th>ENTIDAD_UM</th>\n",
       "      <th>SEXO</th>\n",
       "      <th>ENTIDAD_NAC</th>\n",
       "      <th>ENTIDAD_RES</th>\n",
       "      <th>MUNICIPIO_RES</th>\n",
       "      <th>TIPO_PACIENTE</th>\n",
       "      <th>...</th>\n",
       "      <th>CARDIOVASCULAR</th>\n",
       "      <th>OBESIDAD</th>\n",
       "      <th>RENAL_CRONICA</th>\n",
       "      <th>TABAQUISMO</th>\n",
       "      <th>OTRO_CASO</th>\n",
       "      <th>RESULTADO</th>\n",
       "      <th>MIGRANTE</th>\n",
       "      <th>PAIS_NACIONALIDAD</th>\n",
       "      <th>PAIS_ORIGEN</th>\n",
       "      <th>UCI</th>\n",
       "    </tr>\n",
       "  </thead>\n",
       "  <tbody>\n",
       "    <tr>\n",
       "      <th>0</th>\n",
       "      <td>2020-05-21</td>\n",
       "      <td>11e989</td>\n",
       "      <td>2</td>\n",
       "      <td>3</td>\n",
       "      <td>27</td>\n",
       "      <td>2</td>\n",
       "      <td>27</td>\n",
       "      <td>27</td>\n",
       "      <td>4</td>\n",
       "      <td>2</td>\n",
       "      <td>...</td>\n",
       "      <td>2</td>\n",
       "      <td>2</td>\n",
       "      <td>2</td>\n",
       "      <td>2</td>\n",
       "      <td>1</td>\n",
       "      <td>1</td>\n",
       "      <td>99</td>\n",
       "      <td>MÃ©xico</td>\n",
       "      <td>99</td>\n",
       "      <td>2</td>\n",
       "    </tr>\n",
       "    <tr>\n",
       "      <th>1</th>\n",
       "      <td>2020-05-21</td>\n",
       "      <td>1aad65</td>\n",
       "      <td>2</td>\n",
       "      <td>4</td>\n",
       "      <td>19</td>\n",
       "      <td>2</td>\n",
       "      <td>5</td>\n",
       "      <td>5</td>\n",
       "      <td>18</td>\n",
       "      <td>2</td>\n",
       "      <td>...</td>\n",
       "      <td>2</td>\n",
       "      <td>2</td>\n",
       "      <td>2</td>\n",
       "      <td>2</td>\n",
       "      <td>99</td>\n",
       "      <td>1</td>\n",
       "      <td>99</td>\n",
       "      <td>MÃ©xico</td>\n",
       "      <td>99</td>\n",
       "      <td>1</td>\n",
       "    </tr>\n",
       "    <tr>\n",
       "      <th>2</th>\n",
       "      <td>2020-05-21</td>\n",
       "      <td>04f631</td>\n",
       "      <td>2</td>\n",
       "      <td>4</td>\n",
       "      <td>14</td>\n",
       "      <td>1</td>\n",
       "      <td>14</td>\n",
       "      <td>14</td>\n",
       "      <td>67</td>\n",
       "      <td>1</td>\n",
       "      <td>...</td>\n",
       "      <td>2</td>\n",
       "      <td>2</td>\n",
       "      <td>2</td>\n",
       "      <td>2</td>\n",
       "      <td>99</td>\n",
       "      <td>1</td>\n",
       "      <td>99</td>\n",
       "      <td>MÃ©xico</td>\n",
       "      <td>99</td>\n",
       "      <td>97</td>\n",
       "    </tr>\n",
       "    <tr>\n",
       "      <th>3</th>\n",
       "      <td>2020-05-21</td>\n",
       "      <td>02556b</td>\n",
       "      <td>2</td>\n",
       "      <td>4</td>\n",
       "      <td>15</td>\n",
       "      <td>1</td>\n",
       "      <td>15</td>\n",
       "      <td>15</td>\n",
       "      <td>110</td>\n",
       "      <td>2</td>\n",
       "      <td>...</td>\n",
       "      <td>2</td>\n",
       "      <td>2</td>\n",
       "      <td>2</td>\n",
       "      <td>2</td>\n",
       "      <td>99</td>\n",
       "      <td>1</td>\n",
       "      <td>99</td>\n",
       "      <td>MÃ©xico</td>\n",
       "      <td>99</td>\n",
       "      <td>2</td>\n",
       "    </tr>\n",
       "    <tr>\n",
       "      <th>4</th>\n",
       "      <td>2020-05-21</td>\n",
       "      <td>0356d5</td>\n",
       "      <td>2</td>\n",
       "      <td>4</td>\n",
       "      <td>9</td>\n",
       "      <td>1</td>\n",
       "      <td>9</td>\n",
       "      <td>9</td>\n",
       "      <td>5</td>\n",
       "      <td>2</td>\n",
       "      <td>...</td>\n",
       "      <td>2</td>\n",
       "      <td>2</td>\n",
       "      <td>2</td>\n",
       "      <td>1</td>\n",
       "      <td>99</td>\n",
       "      <td>1</td>\n",
       "      <td>99</td>\n",
       "      <td>MÃ©xico</td>\n",
       "      <td>99</td>\n",
       "      <td>2</td>\n",
       "    </tr>\n",
       "  </tbody>\n",
       "</table>\n",
       "<p>5 rows × 35 columns</p>\n",
       "</div>"
      ],
      "text/plain": [
       "  FECHA_ACTUALIZACION ID_REGISTRO  ORIGEN  SECTOR  ENTIDAD_UM  SEXO  \\\n",
       "0          2020-05-21      11e989       2       3          27     2   \n",
       "1          2020-05-21      1aad65       2       4          19     2   \n",
       "2          2020-05-21      04f631       2       4          14     1   \n",
       "3          2020-05-21      02556b       2       4          15     1   \n",
       "4          2020-05-21      0356d5       2       4           9     1   \n",
       "\n",
       "   ENTIDAD_NAC  ENTIDAD_RES  MUNICIPIO_RES  TIPO_PACIENTE  ... CARDIOVASCULAR  \\\n",
       "0           27           27              4              2  ...              2   \n",
       "1            5            5             18              2  ...              2   \n",
       "2           14           14             67              1  ...              2   \n",
       "3           15           15            110              2  ...              2   \n",
       "4            9            9              5              2  ...              2   \n",
       "\n",
       "  OBESIDAD RENAL_CRONICA  TABAQUISMO  OTRO_CASO  RESULTADO  MIGRANTE  \\\n",
       "0        2             2           2          1          1        99   \n",
       "1        2             2           2         99          1        99   \n",
       "2        2             2           2         99          1        99   \n",
       "3        2             2           2         99          1        99   \n",
       "4        2             2           1         99          1        99   \n",
       "\n",
       "   PAIS_NACIONALIDAD  PAIS_ORIGEN  UCI  \n",
       "0            MÃ©xico           99    2  \n",
       "1            MÃ©xico           99    1  \n",
       "2            MÃ©xico           99   97  \n",
       "3            MÃ©xico           99    2  \n",
       "4            MÃ©xico           99    2  \n",
       "\n",
       "[5 rows x 35 columns]"
      ]
     },
     "execution_count": 3,
     "metadata": {},
     "output_type": "execute_result"
    }
   ],
   "source": [
    "df1.head()"
   ]
  },
  {
   "cell_type": "code",
   "execution_count": 4,
   "metadata": {
    "colab": {
     "base_uri": "https://localhost:8080/",
     "height": 206
    },
    "colab_type": "code",
    "id": "PF6ZW7_8EAva",
    "outputId": "efbd8ded-b403-4cd6-ca3d-eef662c29685"
   },
   "outputs": [
    {
     "data": {
      "text/html": [
       "<div>\n",
       "<style scoped>\n",
       "    .dataframe tbody tr th:only-of-type {\n",
       "        vertical-align: middle;\n",
       "    }\n",
       "\n",
       "    .dataframe tbody tr th {\n",
       "        vertical-align: top;\n",
       "    }\n",
       "\n",
       "    .dataframe thead th {\n",
       "        text-align: right;\n",
       "    }\n",
       "</style>\n",
       "<table border=\"1\" class=\"dataframe\">\n",
       "  <thead>\n",
       "    <tr style=\"text-align: right;\">\n",
       "      <th></th>\n",
       "      <th>EDAD</th>\n",
       "      <th>FECHA</th>\n",
       "      <th>SEMANA</th>\n",
       "      <th>MES</th>\n",
       "      <th>RAZON</th>\n",
       "      <th>ACTA</th>\n",
       "    </tr>\n",
       "  </thead>\n",
       "  <tbody>\n",
       "    <tr>\n",
       "      <th>0</th>\n",
       "      <td>41 AÑOS</td>\n",
       "      <td>2020-03-18</td>\n",
       "      <td>12</td>\n",
       "      <td>3</td>\n",
       "      <td>CHOQUE SEPTICO, NEUMONIA POR COVID 19 POR SARS...</td>\n",
       "      <td>7129</td>\n",
       "    </tr>\n",
       "    <tr>\n",
       "      <th>1</th>\n",
       "      <td>61 AÑOS</td>\n",
       "      <td>2020-03-23</td>\n",
       "      <td>13</td>\n",
       "      <td>3</td>\n",
       "      <td>INSUFICIENCIA RESPIRATORIA AGUDA, NEUMONIA VIR...</td>\n",
       "      <td>4459</td>\n",
       "    </tr>\n",
       "    <tr>\n",
       "      <th>2</th>\n",
       "      <td>60 AÑOS</td>\n",
       "      <td>2020-03-26</td>\n",
       "      <td>13</td>\n",
       "      <td>3</td>\n",
       "      <td>SINDROME DE INSUFICIENCIA RESPIRATORIA AGUDA, ...</td>\n",
       "      <td>4591</td>\n",
       "    </tr>\n",
       "    <tr>\n",
       "      <th>3</th>\n",
       "      <td>37 AÑOS</td>\n",
       "      <td>2020-03-26</td>\n",
       "      <td>13</td>\n",
       "      <td>3</td>\n",
       "      <td>NEUMONIA POR CORONAVIRUS</td>\n",
       "      <td>7879</td>\n",
       "    </tr>\n",
       "    <tr>\n",
       "      <th>4</th>\n",
       "      <td>63 AÑOS</td>\n",
       "      <td>2020-03-26</td>\n",
       "      <td>13</td>\n",
       "      <td>3</td>\n",
       "      <td>CERVICOVAGINITIS PURULENTA, CARCINOMA EPIDERMO...</td>\n",
       "      <td>7829</td>\n",
       "    </tr>\n",
       "  </tbody>\n",
       "</table>\n",
       "</div>"
      ],
      "text/plain": [
       "      EDAD      FECHA  SEMANA  MES  \\\n",
       "0  41 AÑOS 2020-03-18      12    3   \n",
       "1  61 AÑOS 2020-03-23      13    3   \n",
       "2  60 AÑOS 2020-03-26      13    3   \n",
       "3  37 AÑOS 2020-03-26      13    3   \n",
       "4  63 AÑOS 2020-03-26      13    3   \n",
       "\n",
       "                                               RAZON  ACTA  \n",
       "0  CHOQUE SEPTICO, NEUMONIA POR COVID 19 POR SARS...  7129  \n",
       "1  INSUFICIENCIA RESPIRATORIA AGUDA, NEUMONIA VIR...  4459  \n",
       "2  SINDROME DE INSUFICIENCIA RESPIRATORIA AGUDA, ...  4591  \n",
       "3                           NEUMONIA POR CORONAVIRUS  7879  \n",
       "4  CERVICOVAGINITIS PURULENTA, CARCINOMA EPIDERMO...  7829  "
      ]
     },
     "execution_count": 4,
     "metadata": {},
     "output_type": "execute_result"
    }
   ],
   "source": [
    "df2.head()"
   ]
  },
  {
   "cell_type": "code",
   "execution_count": 5,
   "metadata": {
    "colab": {
     "base_uri": "https://localhost:8080/",
     "height": 35
    },
    "colab_type": "code",
    "id": "3Ki5zHqlFjyF",
    "outputId": "4fc640e4-4067-45b8-cdca-399a562a438b"
   },
   "outputs": [
    {
     "data": {
      "text/plain": [
       "(201838, 35)"
      ]
     },
     "execution_count": 5,
     "metadata": {},
     "output_type": "execute_result"
    }
   ],
   "source": [
    "df1.shape"
   ]
  },
  {
   "cell_type": "code",
   "execution_count": 6,
   "metadata": {
    "colab": {
     "base_uri": "https://localhost:8080/",
     "height": 35
    },
    "colab_type": "code",
    "id": "9BnBdyvkGnKW",
    "outputId": "90c514b7-23ab-49d6-9e82-445afcf2ec9c"
   },
   "outputs": [
    {
     "data": {
      "text/plain": [
       "(4579, 6)"
      ]
     },
     "execution_count": 6,
     "metadata": {},
     "output_type": "execute_result"
    }
   ],
   "source": [
    "df2.shape"
   ]
  },
  {
   "cell_type": "code",
   "execution_count": 7,
   "metadata": {},
   "outputs": [],
   "source": [
    "#https://chrisalbon.com/python/data_wrangling/pandas_lowercase_column_names/\n",
    "df1.columns = map(str.lower, df1.columns)\n",
    "df2.columns = map(str.lower, df2.columns)"
   ]
  },
  {
   "cell_type": "code",
   "execution_count": 8,
   "metadata": {
    "colab": {
     "base_uri": "https://localhost:8080/",
     "height": 183
    },
    "colab_type": "code",
    "id": "RdLbi-CAH-ni",
    "outputId": "618cefa1-0e1e-4e41-c60d-8180bc96f2c8"
   },
   "outputs": [
    {
     "data": {
      "text/plain": [
       "Index(['fecha_actualizacion', 'id_registro', 'origen', 'sector', 'entidad_um',\n",
       "       'sexo', 'entidad_nac', 'entidad_res', 'municipio_res', 'tipo_paciente',\n",
       "       'fecha_ingreso', 'fecha_sintomas', 'fecha_def', 'intubado', 'neumonia',\n",
       "       'edad', 'nacionalidad', 'embarazo', 'habla_lengua_indig', 'diabetes',\n",
       "       'epoc', 'asma', 'inmusupr', 'hipertension', 'otra_com',\n",
       "       'cardiovascular', 'obesidad', 'renal_cronica', 'tabaquismo',\n",
       "       'otro_caso', 'resultado', 'migrante', 'pais_nacionalidad',\n",
       "       'pais_origen', 'uci'],\n",
       "      dtype='object')"
      ]
     },
     "execution_count": 8,
     "metadata": {},
     "output_type": "execute_result"
    }
   ],
   "source": [
    "df1.columns"
   ]
  },
  {
   "cell_type": "code",
   "execution_count": 9,
   "metadata": {
    "colab": {},
    "colab_type": "code",
    "id": "Aa2RVhA4GomW"
   },
   "outputs": [],
   "source": [
    "new = df1[['fecha_ingreso', 'entidad_res', 'fecha_sintomas', 'fecha_def',]].copy()\n",
    "new1 = df1[['resultado']].copy()"
   ]
  },
  {
   "cell_type": "code",
   "execution_count": 10,
   "metadata": {
    "colab": {
     "base_uri": "https://localhost:8080/",
     "height": 206
    },
    "colab_type": "code",
    "id": "4j58KBT0I6d4",
    "outputId": "ea955d56-e82b-44a8-9ba1-f6678b9af970"
   },
   "outputs": [
    {
     "data": {
      "text/html": [
       "<div>\n",
       "<style scoped>\n",
       "    .dataframe tbody tr th:only-of-type {\n",
       "        vertical-align: middle;\n",
       "    }\n",
       "\n",
       "    .dataframe tbody tr th {\n",
       "        vertical-align: top;\n",
       "    }\n",
       "\n",
       "    .dataframe thead th {\n",
       "        text-align: right;\n",
       "    }\n",
       "</style>\n",
       "<table border=\"1\" class=\"dataframe\">\n",
       "  <thead>\n",
       "    <tr style=\"text-align: right;\">\n",
       "      <th></th>\n",
       "      <th>fecha_ingreso</th>\n",
       "      <th>entidad_res</th>\n",
       "      <th>fecha_sintomas</th>\n",
       "      <th>fecha_def</th>\n",
       "    </tr>\n",
       "  </thead>\n",
       "  <tbody>\n",
       "    <tr>\n",
       "      <th>0</th>\n",
       "      <td>2020-04-24</td>\n",
       "      <td>27</td>\n",
       "      <td>2020-04-20</td>\n",
       "      <td>2020-04-27</td>\n",
       "    </tr>\n",
       "    <tr>\n",
       "      <th>1</th>\n",
       "      <td>2020-03-30</td>\n",
       "      <td>5</td>\n",
       "      <td>2020-03-30</td>\n",
       "      <td>2020-04-03</td>\n",
       "    </tr>\n",
       "    <tr>\n",
       "      <th>2</th>\n",
       "      <td>2020-04-10</td>\n",
       "      <td>14</td>\n",
       "      <td>2020-04-07</td>\n",
       "      <td>9999-99-99</td>\n",
       "    </tr>\n",
       "    <tr>\n",
       "      <th>3</th>\n",
       "      <td>2020-04-07</td>\n",
       "      <td>15</td>\n",
       "      <td>2020-04-07</td>\n",
       "      <td>2020-04-20</td>\n",
       "    </tr>\n",
       "    <tr>\n",
       "      <th>4</th>\n",
       "      <td>2020-04-04</td>\n",
       "      <td>9</td>\n",
       "      <td>2020-04-04</td>\n",
       "      <td>9999-99-99</td>\n",
       "    </tr>\n",
       "  </tbody>\n",
       "</table>\n",
       "</div>"
      ],
      "text/plain": [
       "  fecha_ingreso  entidad_res fecha_sintomas   fecha_def\n",
       "0    2020-04-24           27     2020-04-20  2020-04-27\n",
       "1    2020-03-30            5     2020-03-30  2020-04-03\n",
       "2    2020-04-10           14     2020-04-07  9999-99-99\n",
       "3    2020-04-07           15     2020-04-07  2020-04-20\n",
       "4    2020-04-04            9     2020-04-04  9999-99-99"
      ]
     },
     "execution_count": 10,
     "metadata": {},
     "output_type": "execute_result"
    }
   ],
   "source": [
    "new.head()"
   ]
  },
  {
   "cell_type": "code",
   "execution_count": 11,
   "metadata": {
    "colab": {
     "base_uri": "https://localhost:8080/",
     "height": 91
    },
    "colab_type": "code",
    "id": "W5dY9hmdI9kd",
    "outputId": "09444144-a3ef-4162-c687-341d164e737d"
   },
   "outputs": [
    {
     "data": {
      "text/plain": [
       "2    108980\n",
       "1     59567\n",
       "3     33291\n",
       "Name: resultado, dtype: int64"
      ]
     },
     "execution_count": 11,
     "metadata": {},
     "output_type": "execute_result"
    }
   ],
   "source": [
    "new1.resultado.value_counts()"
   ]
  },
  {
   "cell_type": "code",
   "execution_count": 12,
   "metadata": {
    "colab": {},
    "colab_type": "code",
    "id": "vtx0_52vJDUF"
   },
   "outputs": [],
   "source": [
    "#According to the CATALOGO, 1 means that it is positive, so I'm going to put what it is not positive as NaN So like this I can have only positive values"
   ]
  },
  {
   "cell_type": "code",
   "execution_count": 13,
   "metadata": {
    "colab": {},
    "colab_type": "code",
    "id": "r-lygLamJ3nC"
   },
   "outputs": [],
   "source": [
    "new1 = new1.replace(2, np.nan)\n",
    "new1 = new1.replace(3, np.nan)"
   ]
  },
  {
   "cell_type": "code",
   "execution_count": 14,
   "metadata": {
    "colab": {
     "base_uri": "https://localhost:8080/",
     "height": 54
    },
    "colab_type": "code",
    "id": "Z_qLLlctJ89h",
    "outputId": "a4f3d20e-ddb5-45be-bb83-85b5a14b8265"
   },
   "outputs": [
    {
     "data": {
      "text/plain": [
       "resultado    142271\n",
       "dtype: int64"
      ]
     },
     "execution_count": 14,
     "metadata": {},
     "output_type": "execute_result"
    }
   ],
   "source": [
    "new1.isnull().sum()"
   ]
  },
  {
   "cell_type": "code",
   "execution_count": 15,
   "metadata": {
    "colab": {
     "base_uri": "https://localhost:8080/",
     "height": 424
    },
    "colab_type": "code",
    "id": "8aDe7P7iNWso",
    "outputId": "6320f37d-2d28-432d-ab22-d9848f19f705"
   },
   "outputs": [
    {
     "data": {
      "text/html": [
       "<div>\n",
       "<style scoped>\n",
       "    .dataframe tbody tr th:only-of-type {\n",
       "        vertical-align: middle;\n",
       "    }\n",
       "\n",
       "    .dataframe tbody tr th {\n",
       "        vertical-align: top;\n",
       "    }\n",
       "\n",
       "    .dataframe thead th {\n",
       "        text-align: right;\n",
       "    }\n",
       "</style>\n",
       "<table border=\"1\" class=\"dataframe\">\n",
       "  <thead>\n",
       "    <tr style=\"text-align: right;\">\n",
       "      <th></th>\n",
       "      <th>resultado</th>\n",
       "    </tr>\n",
       "  </thead>\n",
       "  <tbody>\n",
       "    <tr>\n",
       "      <th>0</th>\n",
       "      <td>1.0</td>\n",
       "    </tr>\n",
       "    <tr>\n",
       "      <th>1</th>\n",
       "      <td>1.0</td>\n",
       "    </tr>\n",
       "    <tr>\n",
       "      <th>2</th>\n",
       "      <td>1.0</td>\n",
       "    </tr>\n",
       "    <tr>\n",
       "      <th>3</th>\n",
       "      <td>1.0</td>\n",
       "    </tr>\n",
       "    <tr>\n",
       "      <th>4</th>\n",
       "      <td>1.0</td>\n",
       "    </tr>\n",
       "    <tr>\n",
       "      <th>...</th>\n",
       "      <td>...</td>\n",
       "    </tr>\n",
       "    <tr>\n",
       "      <th>201833</th>\n",
       "      <td>NaN</td>\n",
       "    </tr>\n",
       "    <tr>\n",
       "      <th>201834</th>\n",
       "      <td>NaN</td>\n",
       "    </tr>\n",
       "    <tr>\n",
       "      <th>201835</th>\n",
       "      <td>NaN</td>\n",
       "    </tr>\n",
       "    <tr>\n",
       "      <th>201836</th>\n",
       "      <td>NaN</td>\n",
       "    </tr>\n",
       "    <tr>\n",
       "      <th>201837</th>\n",
       "      <td>NaN</td>\n",
       "    </tr>\n",
       "  </tbody>\n",
       "</table>\n",
       "<p>201838 rows × 1 columns</p>\n",
       "</div>"
      ],
      "text/plain": [
       "        resultado\n",
       "0             1.0\n",
       "1             1.0\n",
       "2             1.0\n",
       "3             1.0\n",
       "4             1.0\n",
       "...           ...\n",
       "201833        NaN\n",
       "201834        NaN\n",
       "201835        NaN\n",
       "201836        NaN\n",
       "201837        NaN\n",
       "\n",
       "[201838 rows x 1 columns]"
      ]
     },
     "execution_count": 15,
     "metadata": {},
     "output_type": "execute_result"
    }
   ],
   "source": [
    "new1"
   ]
  },
  {
   "cell_type": "code",
   "execution_count": 16,
   "metadata": {
    "colab": {},
    "colab_type": "code",
    "id": "1h7yriYsNYgT"
   },
   "outputs": [],
   "source": [
    "result = pd.concat([new, new1], axis=1)"
   ]
  },
  {
   "cell_type": "code",
   "execution_count": 17,
   "metadata": {
    "colab": {
     "base_uri": "https://localhost:8080/",
     "height": 206
    },
    "colab_type": "code",
    "id": "Cnhb3Qz8OCKx",
    "outputId": "b13ee19e-1378-4284-e060-d8cf129a7a2d"
   },
   "outputs": [
    {
     "data": {
      "text/html": [
       "<div>\n",
       "<style scoped>\n",
       "    .dataframe tbody tr th:only-of-type {\n",
       "        vertical-align: middle;\n",
       "    }\n",
       "\n",
       "    .dataframe tbody tr th {\n",
       "        vertical-align: top;\n",
       "    }\n",
       "\n",
       "    .dataframe thead th {\n",
       "        text-align: right;\n",
       "    }\n",
       "</style>\n",
       "<table border=\"1\" class=\"dataframe\">\n",
       "  <thead>\n",
       "    <tr style=\"text-align: right;\">\n",
       "      <th></th>\n",
       "      <th>fecha_ingreso</th>\n",
       "      <th>entidad_res</th>\n",
       "      <th>fecha_sintomas</th>\n",
       "      <th>fecha_def</th>\n",
       "      <th>resultado</th>\n",
       "    </tr>\n",
       "  </thead>\n",
       "  <tbody>\n",
       "    <tr>\n",
       "      <th>0</th>\n",
       "      <td>2020-04-24</td>\n",
       "      <td>27</td>\n",
       "      <td>2020-04-20</td>\n",
       "      <td>2020-04-27</td>\n",
       "      <td>1.0</td>\n",
       "    </tr>\n",
       "    <tr>\n",
       "      <th>1</th>\n",
       "      <td>2020-03-30</td>\n",
       "      <td>5</td>\n",
       "      <td>2020-03-30</td>\n",
       "      <td>2020-04-03</td>\n",
       "      <td>1.0</td>\n",
       "    </tr>\n",
       "    <tr>\n",
       "      <th>2</th>\n",
       "      <td>2020-04-10</td>\n",
       "      <td>14</td>\n",
       "      <td>2020-04-07</td>\n",
       "      <td>9999-99-99</td>\n",
       "      <td>1.0</td>\n",
       "    </tr>\n",
       "    <tr>\n",
       "      <th>3</th>\n",
       "      <td>2020-04-07</td>\n",
       "      <td>15</td>\n",
       "      <td>2020-04-07</td>\n",
       "      <td>2020-04-20</td>\n",
       "      <td>1.0</td>\n",
       "    </tr>\n",
       "    <tr>\n",
       "      <th>4</th>\n",
       "      <td>2020-04-04</td>\n",
       "      <td>9</td>\n",
       "      <td>2020-04-04</td>\n",
       "      <td>9999-99-99</td>\n",
       "      <td>1.0</td>\n",
       "    </tr>\n",
       "  </tbody>\n",
       "</table>\n",
       "</div>"
      ],
      "text/plain": [
       "  fecha_ingreso  entidad_res fecha_sintomas   fecha_def  resultado\n",
       "0    2020-04-24           27     2020-04-20  2020-04-27        1.0\n",
       "1    2020-03-30            5     2020-03-30  2020-04-03        1.0\n",
       "2    2020-04-10           14     2020-04-07  9999-99-99        1.0\n",
       "3    2020-04-07           15     2020-04-07  2020-04-20        1.0\n",
       "4    2020-04-04            9     2020-04-04  9999-99-99        1.0"
      ]
     },
     "execution_count": 17,
     "metadata": {},
     "output_type": "execute_result"
    }
   ],
   "source": [
    "result.head()"
   ]
  },
  {
   "cell_type": "code",
   "execution_count": 18,
   "metadata": {
    "colab": {
     "base_uri": "https://localhost:8080/",
     "height": 128
    },
    "colab_type": "code",
    "id": "1pkIEOPxODO8",
    "outputId": "0e8156d8-ba57-4438-d043-3771b21e1493"
   },
   "outputs": [
    {
     "data": {
      "text/plain": [
       "fecha_ingreso          0\n",
       "entidad_res            0\n",
       "fecha_sintomas         0\n",
       "fecha_def              0\n",
       "resultado         142271\n",
       "dtype: int64"
      ]
     },
     "execution_count": 18,
     "metadata": {},
     "output_type": "execute_result"
    }
   ],
   "source": [
    "result.isnull().sum()"
   ]
  },
  {
   "cell_type": "code",
   "execution_count": 19,
   "metadata": {
    "colab": {},
    "colab_type": "code",
    "id": "pZ1Z-szYOF4c"
   },
   "outputs": [],
   "source": [
    "result = result.dropna()"
   ]
  },
  {
   "cell_type": "code",
   "execution_count": 20,
   "metadata": {
    "colab": {
     "base_uri": "https://localhost:8080/",
     "height": 35
    },
    "colab_type": "code",
    "id": "MNXwcg1fONNh",
    "outputId": "6a27c039-aec4-43b4-baac-56c5e08cf2f3"
   },
   "outputs": [
    {
     "data": {
      "text/plain": [
       "(59567, 5)"
      ]
     },
     "execution_count": 20,
     "metadata": {},
     "output_type": "execute_result"
    }
   ],
   "source": [
    "result.shape"
   ]
  },
  {
   "cell_type": "code",
   "execution_count": 21,
   "metadata": {},
   "outputs": [
    {
     "name": "stdout",
     "output_type": "stream",
     "text": [
      "<class 'pandas.core.frame.DataFrame'>\n",
      "Int64Index: 59567 entries, 0 to 59566\n",
      "Data columns (total 5 columns):\n",
      "fecha_ingreso     59567 non-null datetime64[ns]\n",
      "entidad_res       59567 non-null int64\n",
      "fecha_sintomas    59567 non-null datetime64[ns]\n",
      "fecha_def         59567 non-null object\n",
      "resultado         59567 non-null float64\n",
      "dtypes: datetime64[ns](2), float64(1), int64(1), object(1)\n",
      "memory usage: 2.7+ MB\n"
     ]
    }
   ],
   "source": [
    "result.info()"
   ]
  },
  {
   "cell_type": "code",
   "execution_count": 22,
   "metadata": {},
   "outputs": [
    {
     "data": {
      "text/plain": [
       "(16758, 5)"
      ]
     },
     "execution_count": 22,
     "metadata": {},
     "output_type": "execute_result"
    }
   ],
   "source": [
    "cdmx = result[result['entidad_res']==9]\n",
    "cdmx.shape"
   ]
  },
  {
   "cell_type": "code",
   "execution_count": 23,
   "metadata": {},
   "outputs": [],
   "source": [
    "cdmx.reset_index(drop=True, inplace=True)"
   ]
  },
  {
   "cell_type": "code",
   "execution_count": 24,
   "metadata": {},
   "outputs": [
    {
     "data": {
      "text/html": [
       "<div>\n",
       "<style scoped>\n",
       "    .dataframe tbody tr th:only-of-type {\n",
       "        vertical-align: middle;\n",
       "    }\n",
       "\n",
       "    .dataframe tbody tr th {\n",
       "        vertical-align: top;\n",
       "    }\n",
       "\n",
       "    .dataframe thead th {\n",
       "        text-align: right;\n",
       "    }\n",
       "</style>\n",
       "<table border=\"1\" class=\"dataframe\">\n",
       "  <thead>\n",
       "    <tr style=\"text-align: right;\">\n",
       "      <th></th>\n",
       "      <th>fecha_ingreso</th>\n",
       "      <th>entidad_res</th>\n",
       "      <th>fecha_sintomas</th>\n",
       "      <th>fecha_def</th>\n",
       "      <th>resultado</th>\n",
       "    </tr>\n",
       "  </thead>\n",
       "  <tbody>\n",
       "    <tr>\n",
       "      <th>0</th>\n",
       "      <td>2020-04-04</td>\n",
       "      <td>9</td>\n",
       "      <td>2020-04-04</td>\n",
       "      <td>9999-99-99</td>\n",
       "      <td>1.0</td>\n",
       "    </tr>\n",
       "    <tr>\n",
       "      <th>1</th>\n",
       "      <td>2020-04-22</td>\n",
       "      <td>9</td>\n",
       "      <td>2020-04-20</td>\n",
       "      <td>9999-99-99</td>\n",
       "      <td>1.0</td>\n",
       "    </tr>\n",
       "    <tr>\n",
       "      <th>2</th>\n",
       "      <td>2020-04-25</td>\n",
       "      <td>9</td>\n",
       "      <td>2020-04-23</td>\n",
       "      <td>9999-99-99</td>\n",
       "      <td>1.0</td>\n",
       "    </tr>\n",
       "    <tr>\n",
       "      <th>3</th>\n",
       "      <td>2020-05-04</td>\n",
       "      <td>9</td>\n",
       "      <td>2020-04-27</td>\n",
       "      <td>9999-99-99</td>\n",
       "      <td>1.0</td>\n",
       "    </tr>\n",
       "    <tr>\n",
       "      <th>4</th>\n",
       "      <td>2020-03-21</td>\n",
       "      <td>9</td>\n",
       "      <td>2020-03-16</td>\n",
       "      <td>2020-03-22</td>\n",
       "      <td>1.0</td>\n",
       "    </tr>\n",
       "  </tbody>\n",
       "</table>\n",
       "</div>"
      ],
      "text/plain": [
       "  fecha_ingreso  entidad_res fecha_sintomas   fecha_def  resultado\n",
       "0    2020-04-04            9     2020-04-04  9999-99-99        1.0\n",
       "1    2020-04-22            9     2020-04-20  9999-99-99        1.0\n",
       "2    2020-04-25            9     2020-04-23  9999-99-99        1.0\n",
       "3    2020-05-04            9     2020-04-27  9999-99-99        1.0\n",
       "4    2020-03-21            9     2020-03-16  2020-03-22        1.0"
      ]
     },
     "execution_count": 24,
     "metadata": {},
     "output_type": "execute_result"
    }
   ],
   "source": [
    "cdmx.head()"
   ]
  },
  {
   "cell_type": "code",
   "execution_count": 25,
   "metadata": {},
   "outputs": [],
   "source": [
    "cdmx = cdmx.replace('9999-99-99', np.nan)"
   ]
  },
  {
   "cell_type": "code",
   "execution_count": 26,
   "metadata": {},
   "outputs": [
    {
     "data": {
      "text/html": [
       "<div>\n",
       "<style scoped>\n",
       "    .dataframe tbody tr th:only-of-type {\n",
       "        vertical-align: middle;\n",
       "    }\n",
       "\n",
       "    .dataframe tbody tr th {\n",
       "        vertical-align: top;\n",
       "    }\n",
       "\n",
       "    .dataframe thead th {\n",
       "        text-align: right;\n",
       "    }\n",
       "</style>\n",
       "<table border=\"1\" class=\"dataframe\">\n",
       "  <thead>\n",
       "    <tr style=\"text-align: right;\">\n",
       "      <th></th>\n",
       "      <th>fecha_ingreso</th>\n",
       "      <th>entidad_res</th>\n",
       "      <th>fecha_sintomas</th>\n",
       "      <th>fecha_def</th>\n",
       "      <th>resultado</th>\n",
       "    </tr>\n",
       "  </thead>\n",
       "  <tbody>\n",
       "    <tr>\n",
       "      <th>0</th>\n",
       "      <td>2020-04-04</td>\n",
       "      <td>9</td>\n",
       "      <td>2020-04-04</td>\n",
       "      <td>NaN</td>\n",
       "      <td>1.0</td>\n",
       "    </tr>\n",
       "    <tr>\n",
       "      <th>1</th>\n",
       "      <td>2020-04-22</td>\n",
       "      <td>9</td>\n",
       "      <td>2020-04-20</td>\n",
       "      <td>NaN</td>\n",
       "      <td>1.0</td>\n",
       "    </tr>\n",
       "    <tr>\n",
       "      <th>2</th>\n",
       "      <td>2020-04-25</td>\n",
       "      <td>9</td>\n",
       "      <td>2020-04-23</td>\n",
       "      <td>NaN</td>\n",
       "      <td>1.0</td>\n",
       "    </tr>\n",
       "    <tr>\n",
       "      <th>3</th>\n",
       "      <td>2020-05-04</td>\n",
       "      <td>9</td>\n",
       "      <td>2020-04-27</td>\n",
       "      <td>NaN</td>\n",
       "      <td>1.0</td>\n",
       "    </tr>\n",
       "    <tr>\n",
       "      <th>4</th>\n",
       "      <td>2020-03-21</td>\n",
       "      <td>9</td>\n",
       "      <td>2020-03-16</td>\n",
       "      <td>2020-03-22</td>\n",
       "      <td>1.0</td>\n",
       "    </tr>\n",
       "  </tbody>\n",
       "</table>\n",
       "</div>"
      ],
      "text/plain": [
       "  fecha_ingreso  entidad_res fecha_sintomas   fecha_def  resultado\n",
       "0    2020-04-04            9     2020-04-04         NaN        1.0\n",
       "1    2020-04-22            9     2020-04-20         NaN        1.0\n",
       "2    2020-04-25            9     2020-04-23         NaN        1.0\n",
       "3    2020-05-04            9     2020-04-27         NaN        1.0\n",
       "4    2020-03-21            9     2020-03-16  2020-03-22        1.0"
      ]
     },
     "execution_count": 26,
     "metadata": {},
     "output_type": "execute_result"
    }
   ],
   "source": [
    "cdmx.head()"
   ]
  },
  {
   "cell_type": "code",
   "execution_count": 27,
   "metadata": {},
   "outputs": [],
   "source": [
    "cdmx = cdmx.dropna()"
   ]
  },
  {
   "cell_type": "code",
   "execution_count": 28,
   "metadata": {},
   "outputs": [
    {
     "data": {
      "text/plain": [
       "(1461, 5)"
      ]
     },
     "execution_count": 28,
     "metadata": {},
     "output_type": "execute_result"
    }
   ],
   "source": [
    "cdmx.shape"
   ]
  },
  {
   "cell_type": "code",
   "execution_count": 29,
   "metadata": {},
   "outputs": [
    {
     "data": {
      "text/html": [
       "<div>\n",
       "<style scoped>\n",
       "    .dataframe tbody tr th:only-of-type {\n",
       "        vertical-align: middle;\n",
       "    }\n",
       "\n",
       "    .dataframe tbody tr th {\n",
       "        vertical-align: top;\n",
       "    }\n",
       "\n",
       "    .dataframe thead th {\n",
       "        text-align: right;\n",
       "    }\n",
       "</style>\n",
       "<table border=\"1\" class=\"dataframe\">\n",
       "  <thead>\n",
       "    <tr style=\"text-align: right;\">\n",
       "      <th></th>\n",
       "      <th>fecha_ingreso</th>\n",
       "      <th>entidad_res</th>\n",
       "      <th>fecha_sintomas</th>\n",
       "      <th>fecha_def</th>\n",
       "      <th>resultado</th>\n",
       "    </tr>\n",
       "  </thead>\n",
       "  <tbody>\n",
       "    <tr>\n",
       "      <th>4</th>\n",
       "      <td>2020-03-21</td>\n",
       "      <td>9</td>\n",
       "      <td>2020-03-16</td>\n",
       "      <td>2020-03-22</td>\n",
       "      <td>1.0</td>\n",
       "    </tr>\n",
       "    <tr>\n",
       "      <th>7</th>\n",
       "      <td>2020-03-29</td>\n",
       "      <td>9</td>\n",
       "      <td>2020-03-29</td>\n",
       "      <td>2020-04-08</td>\n",
       "      <td>1.0</td>\n",
       "    </tr>\n",
       "    <tr>\n",
       "      <th>16</th>\n",
       "      <td>2020-04-14</td>\n",
       "      <td>9</td>\n",
       "      <td>2020-04-01</td>\n",
       "      <td>2020-04-12</td>\n",
       "      <td>1.0</td>\n",
       "    </tr>\n",
       "    <tr>\n",
       "      <th>30</th>\n",
       "      <td>2020-04-14</td>\n",
       "      <td>9</td>\n",
       "      <td>2020-04-07</td>\n",
       "      <td>2020-04-22</td>\n",
       "      <td>1.0</td>\n",
       "    </tr>\n",
       "    <tr>\n",
       "      <th>36</th>\n",
       "      <td>2020-03-30</td>\n",
       "      <td>9</td>\n",
       "      <td>2020-03-30</td>\n",
       "      <td>2020-04-14</td>\n",
       "      <td>1.0</td>\n",
       "    </tr>\n",
       "  </tbody>\n",
       "</table>\n",
       "</div>"
      ],
      "text/plain": [
       "   fecha_ingreso  entidad_res fecha_sintomas   fecha_def  resultado\n",
       "4     2020-03-21            9     2020-03-16  2020-03-22        1.0\n",
       "7     2020-03-29            9     2020-03-29  2020-04-08        1.0\n",
       "16    2020-04-14            9     2020-04-01  2020-04-12        1.0\n",
       "30    2020-04-14            9     2020-04-07  2020-04-22        1.0\n",
       "36    2020-03-30            9     2020-03-30  2020-04-14        1.0"
      ]
     },
     "execution_count": 29,
     "metadata": {},
     "output_type": "execute_result"
    }
   ],
   "source": [
    "cdmx.head()"
   ]
  },
  {
   "cell_type": "code",
   "execution_count": 30,
   "metadata": {},
   "outputs": [],
   "source": [
    "cdmx['date_deaths_count'] = cdmx.fecha_def.map(cdmx.groupby('fecha_def').size())"
   ]
  },
  {
   "cell_type": "code",
   "execution_count": 31,
   "metadata": {},
   "outputs": [
    {
     "data": {
      "text/html": [
       "<div>\n",
       "<style scoped>\n",
       "    .dataframe tbody tr th:only-of-type {\n",
       "        vertical-align: middle;\n",
       "    }\n",
       "\n",
       "    .dataframe tbody tr th {\n",
       "        vertical-align: top;\n",
       "    }\n",
       "\n",
       "    .dataframe thead th {\n",
       "        text-align: right;\n",
       "    }\n",
       "</style>\n",
       "<table border=\"1\" class=\"dataframe\">\n",
       "  <thead>\n",
       "    <tr style=\"text-align: right;\">\n",
       "      <th></th>\n",
       "      <th>fecha_ingreso</th>\n",
       "      <th>entidad_res</th>\n",
       "      <th>fecha_sintomas</th>\n",
       "      <th>fecha_def</th>\n",
       "      <th>resultado</th>\n",
       "      <th>date_deaths_count</th>\n",
       "    </tr>\n",
       "  </thead>\n",
       "  <tbody>\n",
       "    <tr>\n",
       "      <th>4</th>\n",
       "      <td>2020-03-21</td>\n",
       "      <td>9</td>\n",
       "      <td>2020-03-16</td>\n",
       "      <td>2020-03-22</td>\n",
       "      <td>1.0</td>\n",
       "      <td>1</td>\n",
       "    </tr>\n",
       "    <tr>\n",
       "      <th>7</th>\n",
       "      <td>2020-03-29</td>\n",
       "      <td>9</td>\n",
       "      <td>2020-03-29</td>\n",
       "      <td>2020-04-08</td>\n",
       "      <td>1.0</td>\n",
       "      <td>6</td>\n",
       "    </tr>\n",
       "    <tr>\n",
       "      <th>16</th>\n",
       "      <td>2020-04-14</td>\n",
       "      <td>9</td>\n",
       "      <td>2020-04-01</td>\n",
       "      <td>2020-04-12</td>\n",
       "      <td>1.0</td>\n",
       "      <td>9</td>\n",
       "    </tr>\n",
       "    <tr>\n",
       "      <th>30</th>\n",
       "      <td>2020-04-14</td>\n",
       "      <td>9</td>\n",
       "      <td>2020-04-07</td>\n",
       "      <td>2020-04-22</td>\n",
       "      <td>1.0</td>\n",
       "      <td>23</td>\n",
       "    </tr>\n",
       "    <tr>\n",
       "      <th>36</th>\n",
       "      <td>2020-03-30</td>\n",
       "      <td>9</td>\n",
       "      <td>2020-03-30</td>\n",
       "      <td>2020-04-14</td>\n",
       "      <td>1.0</td>\n",
       "      <td>23</td>\n",
       "    </tr>\n",
       "    <tr>\n",
       "      <th>...</th>\n",
       "      <td>...</td>\n",
       "      <td>...</td>\n",
       "      <td>...</td>\n",
       "      <td>...</td>\n",
       "      <td>...</td>\n",
       "      <td>...</td>\n",
       "    </tr>\n",
       "    <tr>\n",
       "      <th>16689</th>\n",
       "      <td>2020-04-10</td>\n",
       "      <td>9</td>\n",
       "      <td>2020-04-06</td>\n",
       "      <td>2020-04-21</td>\n",
       "      <td>1.0</td>\n",
       "      <td>34</td>\n",
       "    </tr>\n",
       "    <tr>\n",
       "      <th>16692</th>\n",
       "      <td>2020-05-11</td>\n",
       "      <td>9</td>\n",
       "      <td>2020-05-06</td>\n",
       "      <td>2020-05-16</td>\n",
       "      <td>1.0</td>\n",
       "      <td>38</td>\n",
       "    </tr>\n",
       "    <tr>\n",
       "      <th>16722</th>\n",
       "      <td>2020-05-02</td>\n",
       "      <td>9</td>\n",
       "      <td>2020-04-24</td>\n",
       "      <td>2020-05-08</td>\n",
       "      <td>1.0</td>\n",
       "      <td>44</td>\n",
       "    </tr>\n",
       "    <tr>\n",
       "      <th>16734</th>\n",
       "      <td>2020-04-21</td>\n",
       "      <td>9</td>\n",
       "      <td>2020-04-18</td>\n",
       "      <td>2020-04-29</td>\n",
       "      <td>1.0</td>\n",
       "      <td>44</td>\n",
       "    </tr>\n",
       "    <tr>\n",
       "      <th>16739</th>\n",
       "      <td>2020-04-08</td>\n",
       "      <td>9</td>\n",
       "      <td>2020-04-08</td>\n",
       "      <td>2020-04-11</td>\n",
       "      <td>1.0</td>\n",
       "      <td>21</td>\n",
       "    </tr>\n",
       "  </tbody>\n",
       "</table>\n",
       "<p>1461 rows × 6 columns</p>\n",
       "</div>"
      ],
      "text/plain": [
       "      fecha_ingreso  entidad_res fecha_sintomas   fecha_def  resultado  \\\n",
       "4        2020-03-21            9     2020-03-16  2020-03-22        1.0   \n",
       "7        2020-03-29            9     2020-03-29  2020-04-08        1.0   \n",
       "16       2020-04-14            9     2020-04-01  2020-04-12        1.0   \n",
       "30       2020-04-14            9     2020-04-07  2020-04-22        1.0   \n",
       "36       2020-03-30            9     2020-03-30  2020-04-14        1.0   \n",
       "...             ...          ...            ...         ...        ...   \n",
       "16689    2020-04-10            9     2020-04-06  2020-04-21        1.0   \n",
       "16692    2020-05-11            9     2020-05-06  2020-05-16        1.0   \n",
       "16722    2020-05-02            9     2020-04-24  2020-05-08        1.0   \n",
       "16734    2020-04-21            9     2020-04-18  2020-04-29        1.0   \n",
       "16739    2020-04-08            9     2020-04-08  2020-04-11        1.0   \n",
       "\n",
       "       date_deaths_count  \n",
       "4                      1  \n",
       "7                      6  \n",
       "16                     9  \n",
       "30                    23  \n",
       "36                    23  \n",
       "...                  ...  \n",
       "16689                 34  \n",
       "16692                 38  \n",
       "16722                 44  \n",
       "16734                 44  \n",
       "16739                 21  \n",
       "\n",
       "[1461 rows x 6 columns]"
      ]
     },
     "execution_count": 31,
     "metadata": {},
     "output_type": "execute_result"
    }
   ],
   "source": [
    "cdmx"
   ]
  },
  {
   "cell_type": "code",
   "execution_count": 32,
   "metadata": {},
   "outputs": [],
   "source": [
    "#cdmx[['fecha_def','date_deaths_count']].plot()"
   ]
  },
  {
   "cell_type": "code",
   "execution_count": 33,
   "metadata": {
    "colab": {
     "base_uri": "https://localhost:8080/",
     "height": 280
    },
    "colab_type": "code",
    "id": "qyRDsBvzOTFn",
    "outputId": "6382a5cf-d6ff-4019-b61a-4a68ad501c96"
   },
   "outputs": [
    {
     "data": {
      "text/plain": [
       "'plt.figure(figsize=(12,20))'"
      ]
     },
     "execution_count": 33,
     "metadata": {},
     "output_type": "execute_result"
    },
    {
     "data": {
      "image/png": "[encoded data removed]",
      "text/plain": [
       "<Figure size 432x288 with 1 Axes>"
      ]
     },
     "metadata": {
      "needs_background": "light"
     },
     "output_type": "display_data"
    }
   ],
   "source": [
    "ax = sns.lineplot(x=\"fecha_def\", y=\"date_deaths_count\", data=cdmx)\n",
    "\"\"\"plt.figure(figsize=(12,20))\"\"\""
   ]
  },
  {
   "cell_type": "code",
   "execution_count": null,
   "metadata": {
    "colab": {},
    "colab_type": "code",
    "id": "DGATFO2XOlUi"
   },
   "outputs": [],
   "source": []
  }
 ],
 "metadata": {
  "colab": {
   "collapsed_sections": [],
   "name": "Covid-19 death comparison.ipynb",
   "provenance": []
  },
  "kernelspec": {
   "display_name": "Python 3",
   "language": "python",
   "name": "python3"
  },
  "language_info": {
   "codemirror_mode": {
    "name": "ipython",
    "version": 3
   },
   "file_extension": ".py",
   "mimetype": "text/x-python",
   "name": "python",
   "nbconvert_exporter": "python",
   "pygments_lexer": "ipython3",
   "version": "3.7.3"
  }
 },
 "nbformat": 4,
 "nbformat_minor": 1
}
